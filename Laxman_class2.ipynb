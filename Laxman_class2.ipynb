{
 "cells": [
  {
   "cell_type": "code",
   "execution_count": 24,
   "id": "b43a931e-18c8-4a5e-9a6d-cbd4102481bd",
   "metadata": {},
   "outputs": [
    {
     "name": "stdout",
     "output_type": "stream",
     "text": [
      "300\n"
     ]
    }
   ],
   "source": [
    "# Write a function to hours to minutes , user should able to give hours as input\n",
    "\n",
    "def conver_hours_mintus(hours):\n",
    "\n",
    "    if not isinstance(hours, (int,float)):\n",
    "        print(\"Input must be number\")\n",
    "        return None\n",
    "    if hours < 0:\n",
    "        print(\"Please Input valid hours value\")\n",
    "        return None\n",
    "    mintus = int(hours * 60)\n",
    "    return mintus \n",
    "print(conver_hours_mintus(5))\n"
   ]
  },
  {
   "cell_type": "code",
   "execution_count": 29,
   "id": "3f9f6a2c-60ce-49e5-85a3-96694867f40b",
   "metadata": {},
   "outputs": [
    {
     "name": "stdout",
     "output_type": "stream",
     "text": [
      "10.0\n"
     ]
    }
   ],
   "source": [
    "# Write a function to convert centimeter to meter , user shoulb be able to give centimeter as input\n",
    "\n",
    "def conver_centimeter_meter(centimeters):\n",
    "\n",
    "    if not isinstance(centimeters, (int,float)):\n",
    "        print(\"Input must be number\")\n",
    "        return None\n",
    "    if centimeters < 0:\n",
    "        print(\"Please Input valid value\")\n",
    "        return None\n",
    "    meters = centimeters/100\n",
    "    return meters \n",
    "print(conver_centimeter_meter(1000))\n"
   ]
  },
  {
   "cell_type": "code",
   "execution_count": 31,
   "id": "b006ec81-cca9-4127-a3ea-95026b0fdae0",
   "metadata": {},
   "outputs": [
    {
     "name": "stdout",
     "output_type": "stream",
     "text": [
      "16.09\n"
     ]
    }
   ],
   "source": [
    "# Write a function to convert miles to Kilometer , user shoulb be able to give miles as input\n",
    "def convert_miles_km(miles):\n",
    "\n",
    "    if not isinstance(miles, (int,float)):\n",
    "        print(\"Input must be number\")\n",
    "        return None\n",
    "    if miles < 0:\n",
    "        print(\"Please Input valid value\")\n",
    "        return None\n",
    "    km = miles * 1.609\n",
    "    return km \n",
    "print(convert_miles_km(10))\n",
    "\n"
   ]
  },
  {
   "cell_type": "code",
   "execution_count": 42,
   "id": "89ed1f2b-d70e-4bbb-89a3-394472ebf087",
   "metadata": {},
   "outputs": [
    {
     "name": "stdout",
     "output_type": "stream",
     "text": [
      "9.07184\n"
     ]
    }
   ],
   "source": [
    "# Write a function to convert pounds to Kilogram , user shoulb be able to give pounds as input\n",
    "def convert_pounuds_kg(pounds):\n",
    "\n",
    "    if not isinstance(pounds, (int,float)):\n",
    "        print(\"Input must be number\")\n",
    "        return None\n",
    "    if pounds < 0:\n",
    "        print(\"Please Input valid value\")\n",
    "        return None\n",
    "    kg = pounds * 0.453592\n",
    "    return kg\n",
    "print(convert_pounuds_kg(20))"
   ]
  },
  {
   "cell_type": "code",
   "execution_count": 47,
   "id": "e3d03788-e822-4585-a8d5-22f8a7a2867d",
   "metadata": {},
   "outputs": [
    {
     "name": "stdout",
     "output_type": "stream",
     "text": [
      "2500.0\n"
     ]
    }
   ],
   "source": [
    "#Write a function to calculate simple interest # all input shoulb be given by the user\n",
    "def calculate_interest(amount, time, interest):\n",
    "\n",
    "    if not all(isinstance(i, (int,float)) for i in [amount, time, interest]):\n",
    "        print(\"Input must be number\")\n",
    "        return None\n",
    "    if amount < 0 or time < 0 or interest < 0:\n",
    "        print(\"Please Input valid value\")\n",
    "        return None\n",
    "    interest =(amount * time * interest)/100\n",
    "    return interest\n",
    "print(calculate_interest(10000,5,5))\n"
   ]
  },
  {
   "cell_type": "code",
   "execution_count": 56,
   "id": "d142b321-e0ce-47bf-85bf-51a83db078e7",
   "metadata": {},
   "outputs": [
    {
     "name": "stdout",
     "output_type": "stream",
     "text": [
      "the area of circle with radius {radius} is {area:.2f}\n"
     ]
    }
   ],
   "source": [
    "#Write a function to calculate area of circle\n",
    "import math \n",
    "def area_of_circle():\n",
    "    radius = 5 \n",
    "    area = math.pi * radius * 2\n",
    "print(\"the area of circle with radius {radius} is {area:.2f}\")\n",
    "area_of_circle()\n",
    "    \n"
   ]
  },
  {
   "cell_type": "code",
   "execution_count": 65,
   "id": "322db6eb-ddac-4028-8a39-b734c07d0149",
   "metadata": {},
   "outputs": [
    {
     "name": "stdout",
     "output_type": "stream",
     "text": [
      "the area of circle with radius {radius} is {circum:.2f}\n"
     ]
    }
   ],
   "source": [
    "#Write a function to calculate circumference of circle\n",
    "\n",
    "import math \n",
    "def circum_of_circle():\n",
    "    radius = 5 \n",
    "    circum = 2*3.14*radius\n",
    "print(\"the area of circle with radius {radius} is {circum:.2f}\")\n",
    "circum_of_circle()"
   ]
  },
  {
   "cell_type": "code",
   "execution_count": 66,
   "id": "71988d63-aa8a-4f2b-863e-8a474c80ef8c",
   "metadata": {},
   "outputs": [
    {
     "name": "stdout",
     "output_type": "stream",
     "text": [
      "20\n"
     ]
    }
   ],
   "source": [
    "# Write a function to calculate perimeter of square\n",
    "def perimeter_of_square(side_length):\n",
    "    \n",
    "    if side_length < 0:\n",
    "        raise ValueError(\"Side length cannot be negative.\")\n",
    "    return 4 * side_length\n",
    "\n",
    "print(perimeter_of_square(5))  \n",
    "\n",
    "\n",
    "\n"
   ]
  },
  {
   "cell_type": "code",
   "execution_count": 70,
   "id": "d490744e-4277-44e9-b9c8-e9e58ffaf1f6",
   "metadata": {},
   "outputs": [
    {
     "name": "stdout",
     "output_type": "stream",
     "text": [
      "25\n"
     ]
    }
   ],
   "source": [
    "# Write a fucntion to calculate area of square\n",
    "\n",
    "def area_of_square(side_length):\n",
    "   \n",
    "    if side_length < 0:\n",
    "        raise ValueError(\"Side length cannot be negative.\")\n",
    "    return side_length ** 2\n",
    "print(area_of_square(5)) "
   ]
  },
  {
   "cell_type": "code",
   "execution_count": 73,
   "id": "32fe3bf4-99ef-47d9-8ecb-9d84aabfabe0",
   "metadata": {},
   "outputs": [
    {
     "name": "stdout",
     "output_type": "stream",
     "text": [
      "12.5\n"
     ]
    }
   ],
   "source": [
    "def area_of_triangle(base, height):\n",
    "    \n",
    "    if base < 0 or height < 0:\n",
    "        raise ValueError(\"Base and height must be non-negative.\")\n",
    "    return 0.5 * base * height\n",
    "print(area_of_triangle(5,5))     "
   ]
  },
  {
   "cell_type": "code",
   "execution_count": null,
   "id": "11eedd78-fbf9-4044-a197-1b9d32844f30",
   "metadata": {},
   "outputs": [],
   "source": []
  },
  {
   "cell_type": "code",
   "execution_count": null,
   "id": "910d48dc-d6f9-4cd7-9aa2-c5c276dc8d36",
   "metadata": {},
   "outputs": [],
   "source": []
  }
 ],
 "metadata": {
  "kernelspec": {
   "display_name": "Python 3 (ipykernel)",
   "language": "python",
   "name": "python3"
  },
  "language_info": {
   "codemirror_mode": {
    "name": "ipython",
    "version": 3
   },
   "file_extension": ".py",
   "mimetype": "text/x-python",
   "name": "python",
   "nbconvert_exporter": "python",
   "pygments_lexer": "ipython3",
   "version": "3.13.5"
  }
 },
 "nbformat": 4,
 "nbformat_minor": 5
}

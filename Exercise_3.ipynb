{
 "cells": [
  {
   "cell_type": "code",
   "execution_count": 18,
   "id": "fbefcdd6-6cba-45a2-98b0-3e59bf5dbf15",
   "metadata": {},
   "outputs": [
    {
     "name": "stdin",
     "output_type": "stream",
     "text": [
      "enter the number of hr 5\n"
     ]
    },
    {
     "name": "stdout",
     "output_type": "stream",
     "text": [
      "5 hour equals to 300 minutes\n"
     ]
    }
   ],
   "source": [
    "# Write a program to hours to minutes , user should able to give hours as input\n",
    "hr = int(input(\"enter the number of hr\"))\n",
    "minutes = hr * 60\n",
    "print(hr,\"hour equals to\", minutes,\"minutes\")"
   ]
  },
  {
   "cell_type": "code",
   "execution_count": 26,
   "id": "1f14556e-0cfb-4958-9aee-d78939a2dc51",
   "metadata": {},
   "outputs": [
    {
     "name": "stdin",
     "output_type": "stream",
     "text": [
      "Enter the centerimeter : 200\n"
     ]
    },
    {
     "name": "stdout",
     "output_type": "stream",
     "text": [
      "The meter for above equivalent centimeter is 2.0\n"
     ]
    }
   ],
   "source": [
    "# Write a program to convert centimeter to meter , user shoulb be able to give centimeter as input\n",
    "cm = int(input(\"Enter the centerimeter :\"))\n",
    "print(\"The meter for above equivalent centimeter is\",cm*0.01)"
   ]
  },
  {
   "cell_type": "code",
   "execution_count": 29,
   "id": "b702ca82-d8ed-49fe-9aee-2d0ee4693714",
   "metadata": {},
   "outputs": [
    {
     "name": "stdin",
     "output_type": "stream",
     "text": [
      "Enter the miles 10\n"
     ]
    },
    {
     "name": "stdout",
     "output_type": "stream",
     "text": [
      "The equivalent kilometer for miles is 16.0\n"
     ]
    }
   ],
   "source": [
    "# Write a program to convert miles to Kilometer , user shoulb be able to give miles as input\n",
    "Mile = int(input(\"Enter the miles\"))\n",
    "print(\"The equivalent kilometer for miles is\", Mile*1.60)"
   ]
  },
  {
   "cell_type": "code",
   "execution_count": 30,
   "id": "1dd80290-ed14-4299-a1d7-9e7219a565d5",
   "metadata": {},
   "outputs": [
    {
     "name": "stdin",
     "output_type": "stream",
     "text": [
      "Enter the value of pounds 10\n"
     ]
    },
    {
     "name": "stdout",
     "output_type": "stream",
     "text": [
      "The equivalent kilogram for pounds is 4.5\n"
     ]
    }
   ],
   "source": [
    "# Write a program to convert pounds to Kilogram , user shoulb be able to give pounds as input\n",
    "pound = int(input(\"Enter the value of pounds\"))\n",
    "print(\"The equivalent kilogram for pounds is\", pound*0.45)"
   ]
  },
  {
   "cell_type": "code",
   "execution_count": 31,
   "id": "bc627d1c-4361-4dc2-a1d3-2f417d361fcd",
   "metadata": {},
   "outputs": [
    {
     "name": "stdout",
     "output_type": "stream",
     "text": [
      "Simple interest is: 2400.0\n"
     ]
    }
   ],
   "source": [
    "# Write a program to calculate simple interest # all input shoulb be given by the user\n",
    "p,t,r=10000,12,2\n",
    "si=(p*t*r/100)\n",
    "print(\"Simple interest is:\",si)"
   ]
  },
  {
   "cell_type": "code",
   "execution_count": 32,
   "id": "7f3e5c66-92ae-44c4-a319-f0daca2b6567",
   "metadata": {},
   "outputs": [
    {
     "name": "stdin",
     "output_type": "stream",
     "text": [
      "Enter radius of circle 20\n"
     ]
    },
    {
     "name": "stdout",
     "output_type": "stream",
     "text": [
      "Area of circle is: 1256.0\n"
     ]
    }
   ],
   "source": [
    "# Write a program to calculate area of circle\n",
    "r = int(input(\"Enter radius of circle\"))\n",
    "area = (3.14*r*r)\n",
    "print(\"Area of circle is:\",area)"
   ]
  },
  {
   "cell_type": "code",
   "execution_count": 3,
   "id": "f82da10a-11f4-4a5d-ac8d-1d11e0cb849f",
   "metadata": {},
   "outputs": [
    {
     "name": "stdin",
     "output_type": "stream",
     "text": [
      "Enter radius of circle 20\n"
     ]
    },
    {
     "name": "stdout",
     "output_type": "stream",
     "text": [
      "circumference of circle 125.60000000000001\n"
     ]
    }
   ],
   "source": [
    "# Write a program to calculate circumference of circle\n",
    "r = int(input(\"Enter radius of circle\"))\n",
    "C = (2*3.14*r)\n",
    "print(\"circumference of circle\",C)"
   ]
  },
  {
   "cell_type": "code",
   "execution_count": 7,
   "id": "d3ff53a3-3dec-49a3-9721-41f44eeba617",
   "metadata": {},
   "outputs": [
    {
     "name": "stdin",
     "output_type": "stream",
     "text": [
      "Enter area of square 10\n"
     ]
    },
    {
     "name": "stdout",
     "output_type": "stream",
     "text": [
      "perimeter of square 40\n"
     ]
    }
   ],
   "source": [
    "# Write a program to calculate perimeter of square\n",
    "a=int(input(\"Enter area of square\"))\n",
    "P=4*a\n",
    "print(\"perimeter of square\",P)\n"
   ]
  },
  {
   "cell_type": "code",
   "execution_count": 10,
   "id": "37875eb5-3cfb-45e1-82ea-66bc12613623",
   "metadata": {},
   "outputs": [
    {
     "name": "stdin",
     "output_type": "stream",
     "text": [
      "Enter area of square 20\n"
     ]
    },
    {
     "name": "stdout",
     "output_type": "stream",
     "text": [
      "area of square 400\n"
     ]
    }
   ],
   "source": [
    "# Write a program to calculate area of square\n",
    "a=int(input(\"Enter area of square\"))\n",
    "A=a*a\n",
    "print(\"area of square\",A) "
   ]
  },
  {
   "cell_type": "code",
   "execution_count": 15,
   "id": "319a21de-d85d-4281-9834-f225e0eff0a4",
   "metadata": {},
   "outputs": [
    {
     "name": "stdin",
     "output_type": "stream",
     "text": [
      "Enter base of traingle 10\n",
      "Enter height of traingle 20\n"
     ]
    },
    {
     "name": "stdout",
     "output_type": "stream",
     "text": [
      "area of traingle 100.0\n"
     ]
    }
   ],
   "source": [
    "# Write a program to area of traingle\n",
    "base=int(input(\"Enter base of traingle\"))\n",
    "height=int(input(\"Enter height of traingle\"))\n",
    "Area = 1/2 * base * height\n",
    "print(\"area of traingle\",Area)"
   ]
  },
  {
   "cell_type": "code",
   "execution_count": null,
   "id": "bafcdba9-a27e-4a9e-9619-2a2b6c850c7f",
   "metadata": {},
   "outputs": [],
   "source": []
  },
  {
   "cell_type": "code",
   "execution_count": null,
   "id": "442917b8-86b7-4dc1-a1c5-108162838878",
   "metadata": {},
   "outputs": [],
   "source": []
  },
  {
   "cell_type": "code",
   "execution_count": null,
   "id": "da1f7b9c-55ca-42d9-8d1d-a255ece2a190",
   "metadata": {},
   "outputs": [],
   "source": []
  },
  {
   "cell_type": "code",
   "execution_count": null,
   "id": "94614ba7-c387-44f4-8239-22176824482c",
   "metadata": {},
   "outputs": [],
   "source": []
  },
  {
   "cell_type": "code",
   "execution_count": null,
   "id": "e9caedd7-8459-4268-be48-171bd42a1521",
   "metadata": {},
   "outputs": [],
   "source": []
  },
  {
   "cell_type": "code",
   "execution_count": null,
   "id": "25f32209-a4ba-462d-9a76-8d772c461d5d",
   "metadata": {},
   "outputs": [],
   "source": []
  }
 ],
 "metadata": {
  "kernelspec": {
   "display_name": "Python 3 (ipykernel)",
   "language": "python",
   "name": "python3"
  },
  "language_info": {
   "codemirror_mode": {
    "name": "ipython",
    "version": 3
   },
   "file_extension": ".py",
   "mimetype": "text/x-python",
   "name": "python",
   "nbconvert_exporter": "python",
   "pygments_lexer": "ipython3",
   "version": "3.13.5"
  }
 },
 "nbformat": 4,
 "nbformat_minor": 5
}

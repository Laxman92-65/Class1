{
 "cells": [
  {
   "cell_type": "code",
   "execution_count": 7,
   "id": "207e98e1-6219-4c59-8bff-c658a04f7145",
   "metadata": {},
   "outputs": [
    {
     "ename": "IndentationError",
     "evalue": "unindent does not match any outer indentation level (<string>, line 4)",
     "output_type": "error",
     "traceback": [
      "\u001b[1;36m  File \u001b[1;32m<string>:4\u001b[1;36m\u001b[0m\n\u001b[1;33m    Expected Output:\u001b[0m\n\u001b[1;37m                    ^\u001b[0m\n\u001b[1;31mIndentationError\u001b[0m\u001b[1;31m:\u001b[0m unindent does not match any outer indentation level\n"
     ]
    }
   ],
   "source": [
    "#1. Write a Python program to print convert a list into a tuple.\n",
    "    #Data:\n",
    "        x = [1,2]\n",
    "    Expected Output:\n",
    "        x - [1, 2]\n",
    "        <class 'list'>\n",
    "        y - (1, 2)\n",
    "        <class 'tuple'>  "
   ]
  },
  {
   "cell_type": "code",
   "execution_count": 8,
   "id": "a8aae678-a1f9-4a3b-aaad-d203285f5c10",
   "metadata": {},
   "outputs": [
    {
     "name": "stdout",
     "output_type": "stream",
     "text": [
      "<class 'list'>\n",
      "(1, 2)\n",
      "<class 'tuple'>\n"
     ]
    }
   ],
   "source": [
    "x = [1,2]\n",
    "print(type(x))\n",
    "y=tuple(x)\n",
    "print(y)\n",
    "print(type(y))"
   ]
  },
  {
   "cell_type": "code",
   "execution_count": 32,
   "id": "69ef2c01-8b4c-46bd-b6bb-fa0d152606e7",
   "metadata": {},
   "outputs": [],
   "source": [
    "#2. Write a Python program to create a tuple with different data types.\n",
    "   #date:\n",
    "   x = (\"tuples\",3.2, 1)\n",
    " Expected Output:\n",
    "    ('tuples', 3.2, 1)\n"
   ]
  },
  {
   "cell_type": "code",
   "execution_count": 44,
   "id": "1412f40d-e7ff-42ad-852c-80051b899d38",
   "metadata": {},
   "outputs": [
    {
     "name": "stdin",
     "output_type": "stream",
     "text": [
      "enter data 1\n",
      "enter data 2\n",
      "enter data 3\n"
     ]
    },
    {
     "name": "stdout",
     "output_type": "stream",
     "text": [
      "('1', '2', '3')\n"
     ]
    }
   ],
   "source": [
    "n=3\n",
    "lt=[]\n",
    "for i in range(n):\n",
    "   x = input(\"enter data\")\n",
    "   lt.append(x)\n",
    "print(tuple(lt))"
   ]
  },
  {
   "cell_type": "code",
   "execution_count": null,
   "id": "f167ebad-0251-423a-b797-345e72821272",
   "metadata": {},
   "outputs": [],
   "source": [
    "3. Write a Python program to create a tuple with numbers and print the items one by one.\n",
    "    Data:\n",
    "        x = 5, 10, 15, 20, 25\n",
    "    Expected Output:\n",
    "        <class 'tuple'> \n",
    "        (5, 10, 15, 20, 25)\n",
    "        5\n",
    "        10\n",
    "        15\n",
    "        20\n",
    "        25"
   ]
  },
  {
   "cell_type": "code",
   "execution_count": 45,
   "id": "121b49f4-e8e9-411e-beed-6cfea50db0ce",
   "metadata": {},
   "outputs": [
    {
     "name": "stdout",
     "output_type": "stream",
     "text": [
      "<class 'tuple'>\n",
      "(5, 10, 15, 20, 25)\n",
      "5\n",
      "10\n",
      "15\n",
      "20\n",
      "25\n"
     ]
    }
   ],
   "source": [
    "x = 5, 10, 15, 20, 25\n",
    "x1=tuple(x)\n",
    "print(type(x1))\n",
    "print(x1)\n",
    "for i in x1:\n",
    "    print(i)"
   ]
  },
  {
   "cell_type": "code",
   "execution_count": null,
   "id": "dbc21126-8bda-432d-ae87-d959ec642389",
   "metadata": {},
   "outputs": [],
   "source": [
    "4. Write a Python program to convert a tuple of characters into a string.\n",
    "    Data:\n",
    "        x = ('v', 'o', 'l', 'a', 't', 'a', 'l', 'i', 't', 'y')\n",
    "    Expected Output:\n",
    "        volatility"
   ]
  },
  {
   "cell_type": "code",
   "execution_count": 46,
   "id": "d2bae5ba-87bd-48c9-a5ae-16b4633fe3a9",
   "metadata": {},
   "outputs": [
    {
     "name": "stdout",
     "output_type": "stream",
     "text": [
      "volatality"
     ]
    }
   ],
   "source": [
    "x = ('v', 'o', 'l', 'a', 't', 'a', 'l', 'i', 't', 'y')\n",
    "for i in x:\n",
    "    print(i,end=\"\")"
   ]
  },
  {
   "cell_type": "code",
   "execution_count": null,
   "id": "78a8d944-8c03-4219-a5fd-168837407841",
   "metadata": {},
   "outputs": [],
   "source": [
    "5. Write a Python program to convert a tuple into a list.\n",
    "    Data:\n",
    "        x=(1,2,3)\n",
    "    Expected Output:\n",
    "        (1, 2, 3)\n",
    "        [1, 2, 3]"
   ]
  },
  {
   "cell_type": "code",
   "execution_count": 47,
   "id": "1d64c7f8-a00c-4450-a1ed-fad8f3c91936",
   "metadata": {},
   "outputs": [
    {
     "name": "stdout",
     "output_type": "stream",
     "text": [
      "(1, 2, 3)\n",
      "[1, 2, 3]\n"
     ]
    }
   ],
   "source": [
    "x=(1,2,3)\n",
    "y=list(x)\n",
    "print(x)\n",
    "print(y)"
   ]
  },
  {
   "cell_type": "code",
   "execution_count": null,
   "id": "22f93ca4-d861-4c4b-a686-963f14c5c0f7",
   "metadata": {},
   "outputs": [],
   "source": [
    "6. Write a Python program to remove an element from a tuple.\n",
    "    Data:\n",
    "        x = (\"a\",\"b\",\"c\",\"d\")\n",
    "    Expected Output:\n",
    "        ('a', 'b', 'd')\n",
    "        "
   ]
  },
  {
   "cell_type": "code",
   "execution_count": 48,
   "id": "0e97848a-84ea-4326-b3d3-2c500d5e347e",
   "metadata": {},
   "outputs": [
    {
     "name": "stdout",
     "output_type": "stream",
     "text": [
      "('a', 'b', 'd')\n"
     ]
    }
   ],
   "source": [
    "x = (\"a\",\"b\",\"c\",\"d\")\n",
    "y=list(x)\n",
    "y.remove(\"c\")\n",
    "print(tuple(y))"
   ]
  },
  {
   "cell_type": "code",
   "execution_count": null,
   "id": "2546a6ea-5382-4cec-8852-d8520b0498db",
   "metadata": {},
   "outputs": [],
   "source": [
    "7. Write a Python program to find the length of a tuple.\n",
    "    Data:\n",
    "        x = (\"positions\")\n",
    "    Expected Output:\n",
    "        ('p', 'o', 's', 'i', 't', 'i', 'o', 'n', 's')\n",
    "        9\n",
    "        "
   ]
  },
  {
   "cell_type": "code",
   "execution_count": 49,
   "id": "d3ae636f-c72e-4f5f-9cba-b6e784304cda",
   "metadata": {},
   "outputs": [
    {
     "name": "stdout",
     "output_type": "stream",
     "text": [
      "('p', 'o', 's', 'i', 't', 'i', 'o', 'n', 's')\n",
      "9\n"
     ]
    }
   ],
   "source": [
    "x = (\"positions\")\n",
    "y=x.strip()\n",
    "z=[]\n",
    "for i in y:\n",
    "    z.append(i)\n",
    "data=tuple(z)\n",
    "print(data)\n",
    "print(len(data))"
   ]
  },
  {
   "cell_type": "code",
   "execution_count": null,
   "id": "70a35f9a-7656-4abf-8517-70464a5c81de",
   "metadata": {},
   "outputs": [],
   "source": [
    "8. Write a Python program to convert a tuple into a dictionary.\n",
    "    Data:\n",
    "        x = ((2, \"w\"),(3, \"r\"))\n",
    "    Expected Output:\n",
    "        {'w': 2, 'r': 3}"
   ]
  },
  {
   "cell_type": "code",
   "execution_count": 50,
   "id": "8e66ec5d-e2a6-4bfc-9e0d-ccd7c2e2076c",
   "metadata": {},
   "outputs": [
    {
     "name": "stdout",
     "output_type": "stream",
     "text": [
      "{2: 'w', 3: 'r'}\n"
     ]
    }
   ],
   "source": [
    "x = ((2, \"w\"),(3, \"r\"))\n",
    "y=dict(x)\n",
    "print(y)"
   ]
  },
  {
   "cell_type": "code",
   "execution_count": null,
   "id": "20976d7a-f7b6-4b2c-b5d8-605be6722473",
   "metadata": {},
   "outputs": [],
   "source": [
    "9. Write a Python program to reverse the tuple elements.\n",
    "    Data:\n",
    "        x = (\"Baskar\")\n",
    "        x = (5, 10, 15, 20)\n",
    "    Expected Output:\n",
    "        ('r', 'a', 'k', 's', 'a', 'B')\n",
    "        (20, 15, 10, 5)"
   ]
  },
  {
   "cell_type": "code",
   "execution_count": 51,
   "id": "b11069a5-f838-4a71-8663-3644898dfbda",
   "metadata": {},
   "outputs": [
    {
     "name": "stdout",
     "output_type": "stream",
     "text": [
      "('r', 'a', 'k', 's', 'a', 'B')\n",
      "(20, 15, 10, 5)\n"
     ]
    }
   ],
   "source": [
    "x = (\"Baskar\")\n",
    "x1=x[::-1]\n",
    "print(tuple(x1))\n",
    "y=(5, 10, 15, 20)\n",
    "y1=y[::-1]\n",
    "print(tuple(y1))"
   ]
  },
  {
   "cell_type": "code",
   "execution_count": null,
   "id": "795bb9e1-984c-4dea-92c4-9d46e284e940",
   "metadata": {},
   "outputs": [],
   "source": [
    "10. Write a Python program to unpack a tuple in several variables.  \n",
    "    Data:\n",
    "        x = 4, 8, 3\n",
    "    Expected Output:\n",
    "        (4, 8, 3)\n",
    "        15\n",
    "        "
   ]
  },
  {
   "cell_type": "code",
   "execution_count": 52,
   "id": "c30afdc2-b95e-49e4-a32a-3fb96e637512",
   "metadata": {},
   "outputs": [
    {
     "name": "stdout",
     "output_type": "stream",
     "text": [
      "(4, 8, 3)\n",
      "15\n"
     ]
    }
   ],
   "source": [
    "x = 4, 8, 3\n",
    "y=[]\n",
    "sum=0\n",
    "for i in x:\n",
    "    y.append(i)\n",
    "    sum=sum+i\n",
    "print(tuple(y))\n",
    "print(sum)"
   ]
  },
  {
   "cell_type": "code",
   "execution_count": null,
   "id": "71d72be2-c786-42f7-b90b-34959b1065b8",
   "metadata": {},
   "outputs": [],
   "source": [
    "11. Write a Python program to create a nested tuple.\n",
    "    Data:\n",
    "        x = (\"Boss\", [8, 4, 6], (1, 2, 3)) \n",
    "    Expected Output:\n",
    "        ('Boss', [8, 4, 6], (1, 2, 3))\n",
    "        "
   ]
  },
  {
   "cell_type": "code",
   "execution_count": 53,
   "id": "1a3a3367-4d9f-4a0e-a2c7-974d3e4ab319",
   "metadata": {},
   "outputs": [
    {
     "name": "stdout",
     "output_type": "stream",
     "text": [
      "('Boss', [8, 4, 6], (1, 2, 3))\n",
      "[8, 4, 6]\n",
      "(1, 2, 3)\n"
     ]
    }
   ],
   "source": [
    "x = (\"Boss\", [8, 4, 6], (1, 2, 3)) \n",
    "print(x)\n",
    "print(x[1])\n",
    "print(x[2])"
   ]
  },
  {
   "cell_type": "code",
   "execution_count": null,
   "id": "0a760637-c683-4cf3-8b04-dd49e3d6748c",
   "metadata": {},
   "outputs": [],
   "source": [
    "12. Write a Python program to convert a string into a tuple.\n",
    "    Data:\n",
    "        x = (\"hello\")\n",
    "    Expected Output:\n",
    "        <class 'str'>\n",
    "        <class 'tuple'>\n",
    "        "
   ]
  },
  {
   "cell_type": "code",
   "execution_count": 54,
   "id": "98f45271-4587-4a16-9ba1-23d158dba5a2",
   "metadata": {},
   "outputs": [
    {
     "name": "stdout",
     "output_type": "stream",
     "text": [
      "<class 'str'>\n",
      "<class 'tuple'>\n"
     ]
    }
   ],
   "source": [
    "x = (\"hello\")\n",
    "print(type(x))\n",
    "y=tuple(x)\n",
    "print(type(y))"
   ]
  },
  {
   "cell_type": "code",
   "execution_count": null,
   "id": "e715ca2b-6d60-4f4f-8a38-2f72646bf357",
   "metadata": {},
   "outputs": [],
   "source": [
    "13. Write a Python program to access tuple elements using index.\n",
    "    Data:\n",
    "        x = ('B','a','s','k','a','r')\n",
    "    Expected Output:\n",
    "        x[0] is : B\n",
    "        x[5] is : r\n"
   ]
  },
  {
   "cell_type": "code",
   "execution_count": 55,
   "id": "80f27cbc-03cb-4015-84c6-6ae77a7cdbb4",
   "metadata": {},
   "outputs": [
    {
     "name": "stdout",
     "output_type": "stream",
     "text": [
      "x[0] is : B\n",
      "x[5] is : r\n"
     ]
    }
   ],
   "source": [
    "x = ('B','a','s','k','a','r')\n",
    "print(\"x[0] is :\",x[0])\n",
    "print(\"x[5] is :\",x[5])"
   ]
  },
  {
   "cell_type": "code",
   "execution_count": null,
   "id": "5b21cd71-752f-4589-9407-669fe076d087",
   "metadata": {},
   "outputs": [],
   "source": [
    "14. Write a Python program to access nested tuple elements using index. \n",
    "    Data:\n",
    "        x = (\"Boss\", [8, 4, 6], (1, 2, 3)) \n",
    "    Expected Output:\n",
    "        x[0][3] is : s\n",
    "        x[1][1] is : 4"
   ]
  },
  {
   "cell_type": "code",
   "execution_count": 56,
   "id": "a2e6ed46-efed-446d-ad1a-65d7d6fb1416",
   "metadata": {},
   "outputs": [
    {
     "name": "stdout",
     "output_type": "stream",
     "text": [
      "x[0][3] is : s\n",
      "x[1][1] is : 4\n"
     ]
    }
   ],
   "source": [
    "x = (\"Boss\", [8, 4, 6], (1, 2, 3)) \n",
    "print(\"x[0][3] is :\", x[0][3])\n",
    "print(\"x[1][1] is :\", x[1][1])"
   ]
  },
  {
   "cell_type": "code",
   "execution_count": null,
   "id": "79d5df55-75b0-4ef4-91cc-1b84f9396180",
   "metadata": {},
   "outputs": [],
   "source": [
    "15. Write a Python program to access tuple elements using negative index.\n",
    "    Data:\n",
    "        x = ('B','a','s','k','a','r')\n",
    "    Expected Output:\n",
    "        x[-1] is : r\n",
    "        x[-6] is : B"
   ]
  },
  {
   "cell_type": "code",
   "execution_count": 57,
   "id": "1ed58a8a-e622-4210-bfdd-6b34a583144f",
   "metadata": {},
   "outputs": [
    {
     "name": "stdout",
     "output_type": "stream",
     "text": [
      "x[-1] is : r\n",
      "x[-6] is : B\n"
     ]
    }
   ],
   "source": [
    "x = ('B','a','s','k','a','r')\n",
    "print(\"x[-1] is :\", x[-1])\n",
    "print(\"x[-6] is :\", x[-6])\n"
   ]
  },
  {
   "cell_type": "code",
   "execution_count": null,
   "id": "3b29d1d4-5fb5-43f2-b3b5-8298137e5746",
   "metadata": {},
   "outputs": [],
   "source": [
    "16. Write a Python program to use + and * operators in a tuple and print the results in tuple.\n",
    "    Data:\n",
    "        x : (1, 12, 123)\n",
    "        y : (4, 9)    \n",
    "    Expected Output:\n",
    "        z = x + y : (1, 12, 123, 4, 9)\n",
    "        z * 3 : (1, 12, 123, 4, 9, 1, 12, 123, 4, 9, 1, 12, 123, 4, 9)"
   ]
  },
  {
   "cell_type": "code",
   "execution_count": 58,
   "id": "9c0412a7-f904-4789-9795-7220789b1d55",
   "metadata": {},
   "outputs": [
    {
     "name": "stdout",
     "output_type": "stream",
     "text": [
      "z=x+y: (1, 12, 123, 4, 9)\n",
      "z*3: (1, 12, 123, 4, 9, 1, 12, 123, 4, 9, 1, 12, 123, 4, 9)\n"
     ]
    }
   ],
   "source": [
    "x = (1, 12, 123)\n",
    "y = (4, 9) \n",
    "z=x+y\n",
    "print(\"z=x+y:\",z)\n",
    "z1=z*3\n",
    "print(\"z*3:\",z1)"
   ]
  },
  {
   "cell_type": "code",
   "execution_count": null,
   "id": "45d6bf10-b803-478f-befe-845284b604d0",
   "metadata": {},
   "outputs": [],
   "source": [
    "17. Write a Python program to print each elements of a tuple using for loop.\n",
    "    Data:\n",
    "        Tuple x = ('boss','sai')\n",
    "    Expected Output:\n",
    "        Hello boss\n",
    "        Hello bala"
   ]
  },
  {
   "cell_type": "code",
   "execution_count": 59,
   "id": "df545047-90ae-4e23-954d-fa07f937acf6",
   "metadata": {},
   "outputs": [
    {
     "name": "stdout",
     "output_type": "stream",
     "text": [
      "Hello boss\n",
      "Hello sai\n"
     ]
    }
   ],
   "source": [
    "x = ('boss','sai')\n",
    "for i in x:\n",
    "    print(\"Hello\",i)"
   ]
  },
  {
   "cell_type": "code",
   "execution_count": null,
   "id": "aca941fc-5dac-4157-92a4-cba284802a3e",
   "metadata": {},
   "outputs": [],
   "source": [
    "18. Write a Python program to print the count of 'p' and the index of 'l' from the given tuple using tuple methods.\n",
    "    Data: \n",
    "        x = ('a', 'p', 'p', 'l', 'e')\n",
    "    Expected Output:\n",
    "        Count of p is : 2\n",
    "        Index of l is : 3"
   ]
  },
  {
   "cell_type": "code",
   "execution_count": 60,
   "id": "c723f122-0241-454c-8721-4459c6956440",
   "metadata": {},
   "outputs": [
    {
     "name": "stdout",
     "output_type": "stream",
     "text": [
      "Count of p is : 2\n",
      "Index of l is : 3\n"
     ]
    }
   ],
   "source": [
    "x = ('a', 'p', 'p', 'l', 'e')\n",
    "y=list(x)\n",
    "z=y.count(\"p\")\n",
    "z1=y.index(\"l\")\n",
    "print(\"Count of p is :\",z)\n",
    "print(\"Index of l is :\",z1)"
   ]
  },
  {
   "cell_type": "code",
   "execution_count": null,
   "id": "683d29ed-f068-4cdd-8b55-e70d118ec878",
   "metadata": {},
   "outputs": [],
   "source": [
    "19. Write a Python program to update an element of a given tuple from 7 to 77.\n",
    "    Data:\n",
    "        x = (1, [9, 8, 7], \"boss\")\n",
    "    Expected Output:\n",
    "        (1, [9, 8, 7], 'boss')\n",
    "        (1, [9, 8, 77], 'boss')\n",
    "        "
   ]
  },
  {
   "cell_type": "code",
   "execution_count": 61,
   "id": "f712a618-4e21-43ea-9bc7-3712a6a0c1e7",
   "metadata": {},
   "outputs": [
    {
     "name": "stdout",
     "output_type": "stream",
     "text": [
      "(1, [9, 8, 77], 'boss')\n"
     ]
    }
   ],
   "source": [
    "x = (1, [9, 8, 7], \"boss\")\n",
    "x[1][2]=77\n",
    "print(x)"
   ]
  },
  {
   "cell_type": "code",
   "execution_count": null,
   "id": "b7024fbc-b497-489a-bdbd-b84b6625efb5",
   "metadata": {},
   "outputs": [],
   "source": [
    "20. Write a Python program to slice a tuple.\n",
    "    Data: \n",
    "        x = (11, 22, 33, 44, 55, 66, 77, 88, 99)\n",
    "    Expected Output:\n",
    "        (11, 22, 33, 44, 55, 66, 77, 88, 99)\n",
    "        (33, 44, 55)\n",
    "        (11, 22, 33, 44)\n",
    "        (55, 66, 77, 88, 99)\n",
    "        (55, 66, 77, 88)\n",
    "        (11, 22, 33, 44, 55, 66, 77, 88, 99)"
   ]
  },
  {
   "cell_type": "code",
   "execution_count": 62,
   "id": "c88a0ff2-76ad-4b1d-815e-c2197f84bfda",
   "metadata": {},
   "outputs": [
    {
     "name": "stdout",
     "output_type": "stream",
     "text": [
      "(11, 22, 33, 44, 55, 66, 77, 88, 99)\n",
      "(33, 44, 55)\n",
      "(11, 22, 33, 44)\n",
      "(55, 66, 77, 88, 99)\n",
      "(55, 66, 77, 88)\n",
      "(11, 22, 33, 44, 55, 66, 77, 88, 99)\n"
     ]
    }
   ],
   "source": [
    "x = (11, 22, 33, 44, 55, 66, 77, 88, 99)\n",
    "print(x)\n",
    "print(x[2:5])\n",
    "print(x[0:4])\n",
    "print(x[4:])\n",
    "print(x[4:8])\n",
    "print(x)"
   ]
  },
  {
   "cell_type": "code",
   "execution_count": null,
   "id": "6f92a1e6-34c1-46cf-a2a4-b085e28b8f5b",
   "metadata": {},
   "outputs": [],
   "source": []
  },
  {
   "cell_type": "code",
   "execution_count": null,
   "id": "06cb8e45-32aa-4189-a2b6-8cb43a5a74df",
   "metadata": {},
   "outputs": [],
   "source": []
  },
  {
   "cell_type": "code",
   "execution_count": null,
   "id": "8a81388f-7c6e-4382-8d39-beb7b739a8b9",
   "metadata": {},
   "outputs": [],
   "source": []
  }
 ],
 "metadata": {
  "kernelspec": {
   "display_name": "Python 3 (ipykernel)",
   "language": "python",
   "name": "python3"
  },
  "language_info": {
   "codemirror_mode": {
    "name": "ipython",
    "version": 3
   },
   "file_extension": ".py",
   "mimetype": "text/x-python",
   "name": "python",
   "nbconvert_exporter": "python",
   "pygments_lexer": "ipython3",
   "version": "3.13.5"
  }
 },
 "nbformat": 4,
 "nbformat_minor": 5
}

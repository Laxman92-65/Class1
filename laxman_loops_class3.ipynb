{
 "cells": [
  {
   "cell_type": "code",
   "execution_count": 2,
   "id": "73c45d6c-eed0-4791-93ee-3c20458cd9c0",
   "metadata": {},
   "outputs": [
    {
     "name": "stdout",
     "output_type": "stream",
     "text": [
      "34\n",
      "35\n",
      "36\n",
      "37\n",
      "38\n",
      "39\n",
      "40\n",
      "41\n",
      "42\n",
      "43\n",
      "44\n",
      "45\n"
     ]
    }
   ],
   "source": [
    "# Write a program using for loop to print from 34 to 45 (45 included)\n",
    "\n",
    "for number in range(34, 46):  \n",
    "    print(number)"
   ]
  },
  {
   "cell_type": "code",
   "execution_count": 9,
   "id": "9b45f1c4-daab-41b6-8c84-604430916a9c",
   "metadata": {},
   "outputs": [
    {
     "name": "stdout",
     "output_type": "stream",
     "text": [
      "machinelearning\n",
      "machinelearning\n",
      "machinelearning\n",
      "machinelearning\n",
      "machinelearning\n",
      "machinelearning\n",
      "machinelearning\n",
      "machinelearning\n",
      "machinelearning\n",
      "machinelearning\n",
      "machinelearning\n",
      "machinelearning\n",
      "machinelearning\n",
      "machinelearning\n",
      "machinelearning\n",
      "machinelearning\n",
      "machinelearning\n",
      "machinelearning\n",
      "machinelearning\n",
      "machinelearning\n",
      "machinelearning\n",
      "machinelearning\n",
      "machinelearning\n",
      "machinelearning\n",
      "machinelearning\n",
      "machinelearning\n",
      "machinelearning\n",
      "machinelearning\n",
      "machinelearning\n",
      "machinelearning\n",
      "machinelearning\n",
      "machinelearning\n",
      "machinelearning\n",
      "machinelearning\n",
      "machinelearning\n",
      "machinelearning\n",
      "machinelearning\n",
      "machinelearning\n",
      "machinelearning\n",
      "machinelearning\n",
      "machinelearning\n",
      "machinelearning\n",
      "machinelearning\n",
      "machinelearning\n",
      "machinelearning\n",
      "machinelearning\n",
      "machinelearning\n",
      "machinelearning\n",
      "machinelearning\n",
      "machinelearning\n"
     ]
    }
   ],
   "source": [
    "# Write a program using for loop to print \"machinelearning\" 50 times \n",
    "for number in range(50):\n",
    "    print(\"machinelearning\")\n",
    " \n",
    " "
   ]
  },
  {
   "cell_type": "code",
   "execution_count": 13,
   "id": "d007b523-0574-4f3c-8d99-19d0e5491a8f",
   "metadata": {},
   "outputs": [
    {
     "name": "stdout",
     "output_type": "stream",
     "text": [
      "21\n",
      "23\n",
      "25\n",
      "27\n"
     ]
    }
   ],
   "source": [
    "# Write a program using for loop to print 21 ,23,25,27\n",
    "\n",
    "for i in range(21,28,2):\n",
    "    print(i)"
   ]
  },
  {
   "cell_type": "code",
   "execution_count": 16,
   "id": "af0f7eed-2dd5-49b4-8125-9f229abc0552",
   "metadata": {},
   "outputs": [
    {
     "name": "stdout",
     "output_type": "stream",
     "text": [
      "14\n",
      "15\n",
      "16\n",
      "18\n",
      "19\n",
      "20\n",
      "21\n",
      "22\n",
      "23\n",
      "24\n",
      "25\n",
      "26\n",
      "27\n",
      "28\n",
      "29\n",
      "30\n",
      "31\n",
      "32\n",
      "33\n",
      "34\n",
      "35\n",
      "36\n",
      "37\n"
     ]
    }
   ],
   "source": [
    "#Write a Python program that prints all the numbers from 14 to 37(37 inclusive) except 17 .\n",
    "#Note : Use 'continue' statement.\n",
    "#Expected Output : 14 15 16 18 19 20 21 22 23 24 25 26 27 28 29 30 31 32 33 34 35 36 37\n",
    "\n",
    "for i in range(14,38):\n",
    "    if i == 17:\n",
    "        continue\n",
    "    else:\n",
    "        print(i)\n"
   ]
  },
  {
   "cell_type": "code",
   "execution_count": 19,
   "id": "ee4dee23-ab02-48c9-8ae8-a0308bbd2b0c",
   "metadata": {},
   "outputs": [
    {
     "name": "stdout",
     "output_type": "stream",
     "text": [
      "even numbers :  86\n",
      "even numbers :  88\n",
      "even numbers :  90\n",
      "even numbers :  92\n",
      "even numbers :  94\n",
      "even numbers :  96\n",
      "even numbers :  98\n"
     ]
    }
   ],
   "source": [
    "# Write a program to print only even numbers from 85 to 100 using for loop\n",
    "for i in range(85,100):\n",
    "    if i%2 == 0:\n",
    "        print(\"even numbers : \",i)\n",
    "    "
   ]
  },
  {
   "cell_type": "code",
   "execution_count": 37,
   "id": "17ce51fa-0087-4507-a039-bc9b61272484",
   "metadata": {},
   "outputs": [
    {
     "name": "stdout",
     "output_type": "stream",
     "text": [
      "35\n"
     ]
    }
   ],
   "source": [
    "# Write a Python program to find those numbers which are divisible by 7 and multiple of 5, between 14 and 37\n",
    "for i in range(14,37):\n",
    "    if i%7==0 and i%5==0:\n",
    "        print(i)"
   ]
  },
  {
   "cell_type": "code",
   "execution_count": 52,
   "id": "88e9f018-29ea-49e8-9767-68786aa7ce5e",
   "metadata": {},
   "outputs": [
    {
     "name": "stdout",
     "output_type": "stream",
     "text": [
      "good morning:  15\n",
      "hello : 18\n",
      "hi : 20\n",
      "hello : 21\n",
      "hello : 24\n",
      "hi : 25\n",
      "hello : 27\n",
      "good morning:  30\n",
      "hello : 33\n",
      "hi : 35\n",
      "hello : 36\n"
     ]
    }
   ],
   "source": [
    "#Write a Python program which iterates the integers from 14 to 37. \n",
    "#For multiples of three print \"hello\" instead of the number and for the multiples of five print \"hi\". \n",
    "#For numbers which are multiples of both three and five print \"goodmorning\"\n",
    "for i in range (14,37):\n",
    "    if (i%3==0) and (i%5==0):\n",
    "        print(\"good morning :\",i)\n",
    "    elif i%3==0:\n",
    "        print(\"hello :\",i)\n",
    "    elif i%5==0:\n",
    "        print(\"hi :\",i)\n"
   ]
  },
  {
   "cell_type": "code",
   "execution_count": 66,
   "id": "0fa9eac2-fe38-4973-9f5a-5a69d9f9ea5b",
   "metadata": {},
   "outputs": [
    {
     "name": "stdout",
     "output_type": "stream",
     "text": [
      "2*1 =  2\n",
      "2*2 =  4\n",
      "2*3 =  6\n",
      "2*4 =  8\n",
      "2*5 =  10\n",
      "2*6 =  12\n",
      "2*7 =  14\n",
      "2*8 =  16\n",
      "2*9 =  18\n"
     ]
    }
   ],
   "source": [
    "\"\"\"\n",
    "2*1 = 2\n",
    "2*2 = 4\n",
    ".\n",
    ".\n",
    ".\n",
    "2*10 = 20\n",
    "\"\"\"\n",
    "#Write program to print 2 table like above\n",
    "i=2\n",
    "for j in range(1,10):\n",
    "    print(f'{i}*{j} = ', i*j)\n"
   ]
  },
  {
   "cell_type": "code",
   "execution_count": null,
   "id": "a246279c-788b-45bb-9a95-edecedc401ef",
   "metadata": {},
   "outputs": [],
   "source": []
  }
 ],
 "metadata": {
  "kernelspec": {
   "display_name": "Python 3 (ipykernel)",
   "language": "python",
   "name": "python3"
  },
  "language_info": {
   "codemirror_mode": {
    "name": "ipython",
    "version": 3
   },
   "file_extension": ".py",
   "mimetype": "text/x-python",
   "name": "python",
   "nbconvert_exporter": "python",
   "pygments_lexer": "ipython3",
   "version": "3.13.5"
  }
 },
 "nbformat": 4,
 "nbformat_minor": 5
}

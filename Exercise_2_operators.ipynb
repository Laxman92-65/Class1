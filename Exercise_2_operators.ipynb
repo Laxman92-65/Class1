{
 "cells": [
  {
   "cell_type": "code",
   "execution_count": 7,
   "id": "2e3d0acb-aa48-4e4d-8d20-3f593a50db30",
   "metadata": {},
   "outputs": [
    {
     "name": "stdout",
     "output_type": "stream",
     "text": [
      "15 5 2 0\n"
     ]
    }
   ],
   "source": [
    "# 1 .Question | Write a program to print 15,5,2 and 0 ,use the approriate operator\n",
    "a = 10\n",
    "b = 5\n",
    "print((a+b),b,(a//b),(a%b))\n"
   ]
  },
  {
   "cell_type": "code",
   "execution_count": 8,
   "id": "07ec049f-265e-4e3e-81ad-8d1a3090c125",
   "metadata": {},
   "outputs": [
    {
     "name": "stdout",
     "output_type": "stream",
     "text": [
      "9\n"
     ]
    }
   ],
   "source": [
    "# 2 .Question | write a code to print 9 , use the approriate operator\n",
    "a = 3\n",
    "b = 2\n",
    "print(a**b)"
   ]
  },
  {
   "cell_type": "code",
   "execution_count": 12,
   "id": "36c16c51-5dcc-49cf-8ed4-b55955ef424e",
   "metadata": {},
   "outputs": [
    {
     "name": "stdout",
     "output_type": "stream",
     "text": [
      "2 2.25 1\n"
     ]
    }
   ],
   "source": [
    "# 4 .Question | # write a code to print 2 , 2.25 and 1 , use the approriate operator\n",
    "x = 9\n",
    "y = 4\n",
    "print((x//y),(x/y),(x%y))"
   ]
  },
  {
   "cell_type": "code",
   "execution_count": 15,
   "id": "04ca853a-77f1-4541-a4ae-30d2005baea0",
   "metadata": {},
   "outputs": [
    {
     "name": "stdout",
     "output_type": "stream",
     "text": [
      "True\n"
     ]
    }
   ],
   "source": [
    "# 5 .Question |  # write a code print True ,use the approriate operator\n",
    "a = 10\n",
    "b = 5\n",
    "print(a!=b)"
   ]
  },
  {
   "cell_type": "code",
   "execution_count": 16,
   "id": "3803c451-e27b-4dc2-a761-485bd276a1d9",
   "metadata": {},
   "outputs": [
    {
     "name": "stdout",
     "output_type": "stream",
     "text": [
      "False\n"
     ]
    }
   ],
   "source": [
    "# 5 .Question | # # write a code print False\n",
    "a = 15\n",
    "b = 15 \n",
    "print(a>b)"
   ]
  },
  {
   "cell_type": "code",
   "execution_count": 19,
   "id": "37696470-1eb9-4e53-92f3-8d7ed9224048",
   "metadata": {},
   "outputs": [
    {
     "name": "stdout",
     "output_type": "stream",
     "text": [
      "True\n"
     ]
    }
   ],
   "source": [
    "# 6 .Question | # # write a code print True\n",
    "a = 24\n",
    "b = 24\n",
    "print(a==b)"
   ]
  },
  {
   "cell_type": "code",
   "execution_count": 22,
   "id": "8687edd5-b127-48f4-98f2-f30cd431cf25",
   "metadata": {},
   "outputs": [
    {
     "name": "stdout",
     "output_type": "stream",
     "text": [
      "True\n"
     ]
    }
   ],
   "source": [
    "# 7 .Question | # # write a code print True\n",
    "a = \"python\"\n",
    "b = \"python\"\n",
    "print(a==b)"
   ]
  },
  {
   "cell_type": "code",
   "execution_count": 33,
   "id": "68ee54cc-f7e8-4bc6-929c-543f453b4e4f",
   "metadata": {},
   "outputs": [
    {
     "name": "stdout",
     "output_type": "stream",
     "text": [
      "False\n"
     ]
    }
   ],
   "source": [
    "# 8 .Question | #  write a code print false using and operator\n",
    "a = 10 \n",
    "b = 20\n",
    "print(a and not b)\n",
    "# c=a+b\n",
    "# print(bool(a and b) > c)"
   ]
  },
  {
   "cell_type": "code",
   "execution_count": null,
   "id": "edf17bbe-4da8-49f2-b6cd-75b7b1ba8dc8",
   "metadata": {},
   "outputs": [],
   "source": []
  },
  {
   "cell_type": "code",
   "execution_count": 46,
   "id": "28eba736-8cb9-48d3-93b2-12ed95703dd4",
   "metadata": {},
   "outputs": [
    {
     "name": "stdout",
     "output_type": "stream",
     "text": [
      "True\n"
     ]
    }
   ],
   "source": [
    "# 10 .Question | #  write a code print True using Not operator\n",
    "a = 20\n",
    "b = 10 \n",
    "print(bool(a or not b))\n"
   ]
  },
  {
   "cell_type": "code",
   "execution_count": null,
   "id": "1b27db55-6cb0-4979-96c4-d131169c3caa",
   "metadata": {},
   "outputs": [],
   "source": []
  }
 ],
 "metadata": {
  "kernelspec": {
   "display_name": "Python 3 (ipykernel)",
   "language": "python",
   "name": "python3"
  },
  "language_info": {
   "codemirror_mode": {
    "name": "ipython",
    "version": 3
   },
   "file_extension": ".py",
   "mimetype": "text/x-python",
   "name": "python",
   "nbconvert_exporter": "python",
   "pygments_lexer": "ipython3",
   "version": "3.13.5"
  }
 },
 "nbformat": 4,
 "nbformat_minor": 5
}

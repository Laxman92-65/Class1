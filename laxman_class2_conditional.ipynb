{
 "cells": [
  {
   "cell_type": "code",
   "execution_count": 7,
   "id": "4d8022a8-313d-48fe-8b13-4894dc21ce45",
   "metadata": {},
   "outputs": [
    {
     "name": "stdin",
     "output_type": "stream",
     "text": [
      "Enter a number:  7\n"
     ]
    },
    {
     "name": "stdout",
     "output_type": "stream",
     "text": [
      "The number 7 is Odd.\n"
     ]
    }
   ],
   "source": [
    "# Write a program to find given number is odd or even \n",
    "\n",
    "def check_odd_or_even(number):\n",
    "    \n",
    "    if number % 2 == 0:\n",
    "        return \"Even\"\n",
    "    else:\n",
    "        return \"Odd\"\n",
    "num = int(input(\"Enter a number: \"))\n",
    "result = check_odd_or_even(num)\n",
    "print(f\"The number {num} is {result}.\")        \n"
   ]
  },
  {
   "cell_type": "code",
   "execution_count": 9,
   "id": "c8bcc523-3cfe-4e32-8388-d89aba6c6822",
   "metadata": {},
   "outputs": [
    {
     "name": "stdin",
     "output_type": "stream",
     "text": [
      "Enter a year:  2024\n"
     ]
    },
    {
     "name": "stdout",
     "output_type": "stream",
     "text": [
      "2024 is a Leap Year.\n"
     ]
    }
   ],
   "source": [
    "#Write a program to find the given year is leap year or not\n",
    "def is_leap_year(year):\n",
    "    \n",
    "    if (year % 4 == 0 and year % 100 != 0) or (year % 400 == 0):\n",
    "        return True\n",
    "    else:\n",
    "        return False\n",
    "\n",
    "# Example usage:\n",
    "year = int(input(\"Enter a year: \"))\n",
    "if is_leap_year(year):\n",
    "    print(f\"{year} is a Leap Year.\")\n",
    "else:\n",
    "    print(f\"{year} is Not a Leap Year.\")    \n"
   ]
  },
  {
   "cell_type": "code",
   "execution_count": 11,
   "id": "9b1a8d8c-44e0-4d46-b79e-1aa2e92fc38b",
   "metadata": {},
   "outputs": [
    {
     "name": "stdin",
     "output_type": "stream",
     "text": [
      "Enter your age:  20\n"
     ]
    },
    {
     "name": "stdout",
     "output_type": "stream",
     "text": [
      "You can Vote\n"
     ]
    }
   ],
   "source": [
    "# Write a program to print \"You can Vote\" or \"You Cannot Vote\n",
    "def check_voting_eligibility(age):\n",
    "   \n",
    "    if age >= 18:\n",
    "        return \"You can Vote\"\n",
    "    else:\n",
    "        return \"You Cannot Vote\"\n",
    "age = int(input(\"Enter your age: \"))\n",
    "print(check_voting_eligibility(age))        "
   ]
  },
  {
   "cell_type": "code",
   "execution_count": 13,
   "id": "d1afd779-4d2c-4d23-9c0e-6f7e2614fbd8",
   "metadata": {},
   "outputs": [
    {
     "name": "stdin",
     "output_type": "stream",
     "text": [
      "Enter first number:  12\n",
      "Enter second number:  45\n",
      "Enter third number:  33\n"
     ]
    },
    {
     "name": "stdout",
     "output_type": "stream",
     "text": [
      "The greatest number is: 45.0\n"
     ]
    }
   ],
   "source": [
    "# Write a program to find greatest of three numbers\n",
    "def find_greatest(a, b, c):\n",
    "\n",
    "    if a >= b and a >= c:\n",
    "        return a\n",
    "    elif b >= a and b >= c:\n",
    "        return b\n",
    "    else:\n",
    "        return c\n",
    "\n",
    "# Example usage:\n",
    "num1 = float(input(\"Enter first number: \"))\n",
    "num2 = float(input(\"Enter second number: \"))\n",
    "num3 = float(input(\"Enter third number: \"))\n",
    "\n",
    "greatest = find_greatest(num1, num2, num3)\n",
    "print(f\"The greatest number is: {greatest}\")\n"
   ]
  },
  {
   "cell_type": "code",
   "execution_count": 16,
   "id": "d760ef10-8a8e-4f78-a176-17699429c6a7",
   "metadata": {},
   "outputs": [
    {
     "name": "stdin",
     "output_type": "stream",
     "text": [
      "Enter first number:  300\n",
      "Enter second number:  400\n"
     ]
    },
    {
     "name": "stdout",
     "output_type": "stream",
     "text": [
      "Super\n"
     ]
    }
   ],
   "source": [
    "#Write a program to print \"Super\" if the sum of number is \"less\" than 1000 and \"great\" if the sum of number is greater than 1000\n",
    "def check_sum_status(num1, num2):\n",
    "\n",
    "    total = num1 + num2\n",
    "    if total < 1000:\n",
    "        return \"Super\"\n",
    "    else:\n",
    "        return \"Great\"\n",
    "\n",
    "# Example usage:\n",
    "number1 = float(input(\"Enter first number: \"))\n",
    "number2 = float(input(\"Enter second number: \"))\n",
    "\n",
    "result = check_sum_status(number1, number2)\n",
    "print(result)\n",
    "\n"
   ]
  },
  {
   "cell_type": "code",
   "execution_count": null,
   "id": "d3dc24ab-ebab-4d0e-8595-0bef78dfb4ab",
   "metadata": {},
   "outputs": [],
   "source": []
  }
 ],
 "metadata": {
  "kernelspec": {
   "display_name": "Python 3 (ipykernel)",
   "language": "python",
   "name": "python3"
  },
  "language_info": {
   "codemirror_mode": {
    "name": "ipython",
    "version": 3
   },
   "file_extension": ".py",
   "mimetype": "text/x-python",
   "name": "python",
   "nbconvert_exporter": "python",
   "pygments_lexer": "ipython3",
   "version": "3.13.5"
  }
 },
 "nbformat": 4,
 "nbformat_minor": 5
}
